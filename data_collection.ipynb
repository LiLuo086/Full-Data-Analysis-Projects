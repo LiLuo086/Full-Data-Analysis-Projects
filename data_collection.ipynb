{
 "cells": [
  {
   "cell_type": "code",
   "execution_count": 2,
   "id": "d44ca00a-4fb1-4b56-a309-d03b94feb1a4",
   "metadata": {},
   "outputs": [],
   "source": [
    "from googleapiclient.discovery import build\n",
    "import pandas as pd\n",
    "import seaborn as sns\n",
    "import matplotlib.ticker as ticker \n",
    "import matplotlib.pyplot as plt\n",
    "from pathlib import Path\n",
    "import os\n",
    "import isodate\n"
   ]
  },
  {
   "cell_type": "code",
   "execution_count": 3,
   "id": "30f4ba42-79c4-4aa1-96ba-9293842e3efe",
   "metadata": {},
   "outputs": [],
   "source": [
    "api_key = Path(\"YT_API_KEY.txt\").read_text()\n",
    "channel_handle = '@alextheanalyst' # YouTube Channel 'Alex The Analyst'\n",
    "                   \n",
    "api_service_name = 'youtube'\n",
    "api_version = 'v3'\n",
    "\n",
    "# Initialize YouTube Data API client using google api library\n",
    "youtube = build(api_service_name, api_version, developerKey=api_key)"
   ]
  },
  {
   "cell_type": "markdown",
   "id": "5227322f",
   "metadata": {},
   "source": [
    "##  Analyze YouTube Channel Alex The Analyst\n",
    "### Function to request channel information"
   ]
  },
  {
   "cell_type": "code",
   "execution_count": 4,
   "id": "e0c9a9c7",
   "metadata": {},
   "outputs": [],
   "source": [
    "# request channel information using youtube data api\n",
    "def request_channel_info(youtube, channel_handle):    \n",
    "    \n",
    "    request = youtube.channels().list(\n",
    "        part=\"snippet,contentDetails,statistics\",\n",
    "        forHandle=channel_handle        \n",
    "        )\n",
    "    \n",
    "    response = request.execute()\n",
    "    #return response   \n",
    "        \n",
    "    response_data = response['items'][0]\n",
    "    data = {'channel': response_data['snippet']['title'],\n",
    "            'description': response_data['snippet']['description'],\n",
    "            'subscribers': response_data['statistics']['subscriberCount'],\n",
    "            'views': response_data['statistics']['viewCount'],\n",
    "            'total_videos': response_data['statistics']['videoCount'],\n",
    "            'playlist_id': response_data['contentDetails']['relatedPlaylists']['uploads']            \n",
    "            }              \n",
    "        \n",
    "        \n",
    "    #return the statistic data of Channel 'Alex The Analyst'\n",
    "    return data"
   ]
  },
  {
   "cell_type": "code",
   "execution_count": 5,
   "id": "8b08f01d",
   "metadata": {},
   "outputs": [],
   "source": [
    "channel_statistics = request_channel_info(youtube,channel_handle)\n",
    "# print(channel_statistics)"
   ]
  },
  {
   "cell_type": "code",
   "execution_count": 6,
   "id": "f6ad02ae",
   "metadata": {},
   "outputs": [],
   "source": [
    "# convert channel data to panda DataFrame\n",
    "channel_data = pd.DataFrame([channel_statistics])\n",
    "#channel_data"
   ]
  },
  {
   "cell_type": "code",
   "execution_count": 7,
   "id": "727b5558",
   "metadata": {},
   "outputs": [],
   "source": [
    "# Save channel data to a csv file\n",
    "os.makedirs(\"data\",exist_ok=True)\n",
    "channel_data.to_csv('data/channel.csv', index=False)"
   ]
  },
  {
   "cell_type": "markdown",
   "id": "7da64c69",
   "metadata": {},
   "source": [
    "### Funtion to get video IDs"
   ]
  },
  {
   "cell_type": "code",
   "execution_count": 8,
   "id": "4ca91c93",
   "metadata": {},
   "outputs": [],
   "source": [
    "def get_playlist_videos(youtube, play_list_id): \n",
    "    \n",
    "    video_ids = []\n",
    "    next_page_token = None   \n",
    "    \n",
    "    while True: \n",
    "        request = youtube.playlistItems().list(\n",
    "            part='snippet,contentDetails',\n",
    "            maxResults=50,\n",
    "            pageToken=next_page_token,\n",
    "            playlistId=play_list_id\n",
    "            )\n",
    "        \n",
    "        response = request.execute()\n",
    "        #return response\n",
    "    \n",
    "        for item in response['items']:\n",
    "            video_id = item['contentDetails']['videoId']               \n",
    "            video_ids.append(video_id)\n",
    "        \n",
    "        next_page_token=response.get('nextPageToken')\n",
    "        #print(next_page_token)\n",
    "        if not next_page_token:\n",
    "            break    \n",
    "           \n",
    "    return video_ids\n",
    "   \n",
    "   "
   ]
  },
  {
   "cell_type": "code",
   "execution_count": null,
   "id": "3a8ad954",
   "metadata": {},
   "outputs": [
    {
     "ename": "KeyError",
     "evalue": "'Playlist_ID'",
     "output_type": "error",
     "traceback": [
      "\u001b[1;31m---------------------------------------------------------------------------\u001b[0m",
      "\u001b[1;31mKeyError\u001b[0m                                  Traceback (most recent call last)",
      "File \u001b[1;32md:\\anaconda3\\envs\\YouTube-DA-env\\Lib\\site-packages\\pandas\\core\\indexes\\base.py:3805\u001b[0m, in \u001b[0;36mIndex.get_loc\u001b[1;34m(self, key)\u001b[0m\n\u001b[0;32m   3804\u001b[0m \u001b[38;5;28;01mtry\u001b[39;00m:\n\u001b[1;32m-> 3805\u001b[0m     \u001b[38;5;28;01mreturn\u001b[39;00m \u001b[38;5;28mself\u001b[39m\u001b[38;5;241m.\u001b[39m_engine\u001b[38;5;241m.\u001b[39mget_loc(casted_key)\n\u001b[0;32m   3806\u001b[0m \u001b[38;5;28;01mexcept\u001b[39;00m \u001b[38;5;167;01mKeyError\u001b[39;00m \u001b[38;5;28;01mas\u001b[39;00m err:\n",
      "File \u001b[1;32mindex.pyx:167\u001b[0m, in \u001b[0;36mpandas._libs.index.IndexEngine.get_loc\u001b[1;34m()\u001b[0m\n",
      "File \u001b[1;32mindex.pyx:196\u001b[0m, in \u001b[0;36mpandas._libs.index.IndexEngine.get_loc\u001b[1;34m()\u001b[0m\n",
      "File \u001b[1;32mpandas\\\\_libs\\\\hashtable_class_helper.pxi:7081\u001b[0m, in \u001b[0;36mpandas._libs.hashtable.PyObjectHashTable.get_item\u001b[1;34m()\u001b[0m\n",
      "File \u001b[1;32mpandas\\\\_libs\\\\hashtable_class_helper.pxi:7089\u001b[0m, in \u001b[0;36mpandas._libs.hashtable.PyObjectHashTable.get_item\u001b[1;34m()\u001b[0m\n",
      "\u001b[1;31mKeyError\u001b[0m: 'Playlist_ID'",
      "\nThe above exception was the direct cause of the following exception:\n",
      "\u001b[1;31mKeyError\u001b[0m                                  Traceback (most recent call last)",
      "Cell \u001b[1;32mIn[11], line 1\u001b[0m\n\u001b[1;32m----> 1\u001b[0m playlist_ID \u001b[38;5;241m=\u001b[39m channel_data\u001b[38;5;241m.\u001b[39mloc[channel_data[\u001b[38;5;124m'\u001b[39m\u001b[38;5;124mchannel\u001b[39m\u001b[38;5;124m'\u001b[39m]\u001b[38;5;241m==\u001b[39m\u001b[38;5;124m'\u001b[39m\u001b[38;5;124mAlex The Analyst\u001b[39m\u001b[38;5;124m'\u001b[39m,\u001b[38;5;124m'\u001b[39m\u001b[38;5;124mPlaylist_ID\u001b[39m\u001b[38;5;124m'\u001b[39m]\u001b[38;5;241m.\u001b[39miloc[\u001b[38;5;241m0\u001b[39m]\n",
      "File \u001b[1;32md:\\anaconda3\\envs\\YouTube-DA-env\\Lib\\site-packages\\pandas\\core\\indexing.py:1184\u001b[0m, in \u001b[0;36m_LocationIndexer.__getitem__\u001b[1;34m(self, key)\u001b[0m\n\u001b[0;32m   1182\u001b[0m     \u001b[38;5;28;01mif\u001b[39;00m \u001b[38;5;28mself\u001b[39m\u001b[38;5;241m.\u001b[39m_is_scalar_access(key):\n\u001b[0;32m   1183\u001b[0m         \u001b[38;5;28;01mreturn\u001b[39;00m \u001b[38;5;28mself\u001b[39m\u001b[38;5;241m.\u001b[39mobj\u001b[38;5;241m.\u001b[39m_get_value(\u001b[38;5;241m*\u001b[39mkey, takeable\u001b[38;5;241m=\u001b[39m\u001b[38;5;28mself\u001b[39m\u001b[38;5;241m.\u001b[39m_takeable)\n\u001b[1;32m-> 1184\u001b[0m     \u001b[38;5;28;01mreturn\u001b[39;00m \u001b[38;5;28mself\u001b[39m\u001b[38;5;241m.\u001b[39m_getitem_tuple(key)\n\u001b[0;32m   1185\u001b[0m \u001b[38;5;28;01melse\u001b[39;00m:\n\u001b[0;32m   1186\u001b[0m     \u001b[38;5;66;03m# we by definition only have the 0th axis\u001b[39;00m\n\u001b[0;32m   1187\u001b[0m     axis \u001b[38;5;241m=\u001b[39m \u001b[38;5;28mself\u001b[39m\u001b[38;5;241m.\u001b[39maxis \u001b[38;5;129;01mor\u001b[39;00m \u001b[38;5;241m0\u001b[39m\n",
      "File \u001b[1;32md:\\anaconda3\\envs\\YouTube-DA-env\\Lib\\site-packages\\pandas\\core\\indexing.py:1368\u001b[0m, in \u001b[0;36m_LocIndexer._getitem_tuple\u001b[1;34m(self, tup)\u001b[0m\n\u001b[0;32m   1366\u001b[0m \u001b[38;5;28;01mwith\u001b[39;00m suppress(IndexingError):\n\u001b[0;32m   1367\u001b[0m     tup \u001b[38;5;241m=\u001b[39m \u001b[38;5;28mself\u001b[39m\u001b[38;5;241m.\u001b[39m_expand_ellipsis(tup)\n\u001b[1;32m-> 1368\u001b[0m     \u001b[38;5;28;01mreturn\u001b[39;00m \u001b[38;5;28mself\u001b[39m\u001b[38;5;241m.\u001b[39m_getitem_lowerdim(tup)\n\u001b[0;32m   1370\u001b[0m \u001b[38;5;66;03m# no multi-index, so validate all of the indexers\u001b[39;00m\n\u001b[0;32m   1371\u001b[0m tup \u001b[38;5;241m=\u001b[39m \u001b[38;5;28mself\u001b[39m\u001b[38;5;241m.\u001b[39m_validate_tuple_indexer(tup)\n",
      "File \u001b[1;32md:\\anaconda3\\envs\\YouTube-DA-env\\Lib\\site-packages\\pandas\\core\\indexing.py:1065\u001b[0m, in \u001b[0;36m_LocationIndexer._getitem_lowerdim\u001b[1;34m(self, tup)\u001b[0m\n\u001b[0;32m   1061\u001b[0m \u001b[38;5;28;01mfor\u001b[39;00m i, key \u001b[38;5;129;01min\u001b[39;00m \u001b[38;5;28menumerate\u001b[39m(tup):\n\u001b[0;32m   1062\u001b[0m     \u001b[38;5;28;01mif\u001b[39;00m is_label_like(key):\n\u001b[0;32m   1063\u001b[0m         \u001b[38;5;66;03m# We don't need to check for tuples here because those are\u001b[39;00m\n\u001b[0;32m   1064\u001b[0m         \u001b[38;5;66;03m#  caught by the _is_nested_tuple_indexer check above.\u001b[39;00m\n\u001b[1;32m-> 1065\u001b[0m         section \u001b[38;5;241m=\u001b[39m \u001b[38;5;28mself\u001b[39m\u001b[38;5;241m.\u001b[39m_getitem_axis(key, axis\u001b[38;5;241m=\u001b[39mi)\n\u001b[0;32m   1067\u001b[0m         \u001b[38;5;66;03m# We should never have a scalar section here, because\u001b[39;00m\n\u001b[0;32m   1068\u001b[0m         \u001b[38;5;66;03m#  _getitem_lowerdim is only called after a check for\u001b[39;00m\n\u001b[0;32m   1069\u001b[0m         \u001b[38;5;66;03m#  is_scalar_access, which that would be.\u001b[39;00m\n\u001b[0;32m   1070\u001b[0m         \u001b[38;5;28;01mif\u001b[39;00m section\u001b[38;5;241m.\u001b[39mndim \u001b[38;5;241m==\u001b[39m \u001b[38;5;28mself\u001b[39m\u001b[38;5;241m.\u001b[39mndim:\n\u001b[0;32m   1071\u001b[0m             \u001b[38;5;66;03m# we're in the middle of slicing through a MultiIndex\u001b[39;00m\n\u001b[0;32m   1072\u001b[0m             \u001b[38;5;66;03m# revise the key wrt to `section` by inserting an _NS\u001b[39;00m\n",
      "File \u001b[1;32md:\\anaconda3\\envs\\YouTube-DA-env\\Lib\\site-packages\\pandas\\core\\indexing.py:1431\u001b[0m, in \u001b[0;36m_LocIndexer._getitem_axis\u001b[1;34m(self, key, axis)\u001b[0m\n\u001b[0;32m   1429\u001b[0m \u001b[38;5;66;03m# fall thru to straight lookup\u001b[39;00m\n\u001b[0;32m   1430\u001b[0m \u001b[38;5;28mself\u001b[39m\u001b[38;5;241m.\u001b[39m_validate_key(key, axis)\n\u001b[1;32m-> 1431\u001b[0m \u001b[38;5;28;01mreturn\u001b[39;00m \u001b[38;5;28mself\u001b[39m\u001b[38;5;241m.\u001b[39m_get_label(key, axis\u001b[38;5;241m=\u001b[39maxis)\n",
      "File \u001b[1;32md:\\anaconda3\\envs\\YouTube-DA-env\\Lib\\site-packages\\pandas\\core\\indexing.py:1381\u001b[0m, in \u001b[0;36m_LocIndexer._get_label\u001b[1;34m(self, label, axis)\u001b[0m\n\u001b[0;32m   1379\u001b[0m \u001b[38;5;28;01mdef\u001b[39;00m \u001b[38;5;21m_get_label\u001b[39m(\u001b[38;5;28mself\u001b[39m, label, axis: AxisInt):\n\u001b[0;32m   1380\u001b[0m     \u001b[38;5;66;03m# GH#5567 this will fail if the label is not present in the axis.\u001b[39;00m\n\u001b[1;32m-> 1381\u001b[0m     \u001b[38;5;28;01mreturn\u001b[39;00m \u001b[38;5;28mself\u001b[39m\u001b[38;5;241m.\u001b[39mobj\u001b[38;5;241m.\u001b[39mxs(label, axis\u001b[38;5;241m=\u001b[39maxis)\n",
      "File \u001b[1;32md:\\anaconda3\\envs\\YouTube-DA-env\\Lib\\site-packages\\pandas\\core\\generic.py:4287\u001b[0m, in \u001b[0;36mNDFrame.xs\u001b[1;34m(self, key, axis, level, drop_level)\u001b[0m\n\u001b[0;32m   4285\u001b[0m \u001b[38;5;28;01mif\u001b[39;00m axis \u001b[38;5;241m==\u001b[39m \u001b[38;5;241m1\u001b[39m:\n\u001b[0;32m   4286\u001b[0m     \u001b[38;5;28;01mif\u001b[39;00m drop_level:\n\u001b[1;32m-> 4287\u001b[0m         \u001b[38;5;28;01mreturn\u001b[39;00m \u001b[38;5;28mself\u001b[39m[key]\n\u001b[0;32m   4288\u001b[0m     index \u001b[38;5;241m=\u001b[39m \u001b[38;5;28mself\u001b[39m\u001b[38;5;241m.\u001b[39mcolumns\n\u001b[0;32m   4289\u001b[0m \u001b[38;5;28;01melse\u001b[39;00m:\n",
      "File \u001b[1;32md:\\anaconda3\\envs\\YouTube-DA-env\\Lib\\site-packages\\pandas\\core\\frame.py:4102\u001b[0m, in \u001b[0;36mDataFrame.__getitem__\u001b[1;34m(self, key)\u001b[0m\n\u001b[0;32m   4100\u001b[0m \u001b[38;5;28;01mif\u001b[39;00m \u001b[38;5;28mself\u001b[39m\u001b[38;5;241m.\u001b[39mcolumns\u001b[38;5;241m.\u001b[39mnlevels \u001b[38;5;241m>\u001b[39m \u001b[38;5;241m1\u001b[39m:\n\u001b[0;32m   4101\u001b[0m     \u001b[38;5;28;01mreturn\u001b[39;00m \u001b[38;5;28mself\u001b[39m\u001b[38;5;241m.\u001b[39m_getitem_multilevel(key)\n\u001b[1;32m-> 4102\u001b[0m indexer \u001b[38;5;241m=\u001b[39m \u001b[38;5;28mself\u001b[39m\u001b[38;5;241m.\u001b[39mcolumns\u001b[38;5;241m.\u001b[39mget_loc(key)\n\u001b[0;32m   4103\u001b[0m \u001b[38;5;28;01mif\u001b[39;00m is_integer(indexer):\n\u001b[0;32m   4104\u001b[0m     indexer \u001b[38;5;241m=\u001b[39m [indexer]\n",
      "File \u001b[1;32md:\\anaconda3\\envs\\YouTube-DA-env\\Lib\\site-packages\\pandas\\core\\indexes\\base.py:3812\u001b[0m, in \u001b[0;36mIndex.get_loc\u001b[1;34m(self, key)\u001b[0m\n\u001b[0;32m   3807\u001b[0m     \u001b[38;5;28;01mif\u001b[39;00m \u001b[38;5;28misinstance\u001b[39m(casted_key, \u001b[38;5;28mslice\u001b[39m) \u001b[38;5;129;01mor\u001b[39;00m (\n\u001b[0;32m   3808\u001b[0m         \u001b[38;5;28misinstance\u001b[39m(casted_key, abc\u001b[38;5;241m.\u001b[39mIterable)\n\u001b[0;32m   3809\u001b[0m         \u001b[38;5;129;01mand\u001b[39;00m \u001b[38;5;28many\u001b[39m(\u001b[38;5;28misinstance\u001b[39m(x, \u001b[38;5;28mslice\u001b[39m) \u001b[38;5;28;01mfor\u001b[39;00m x \u001b[38;5;129;01min\u001b[39;00m casted_key)\n\u001b[0;32m   3810\u001b[0m     ):\n\u001b[0;32m   3811\u001b[0m         \u001b[38;5;28;01mraise\u001b[39;00m InvalidIndexError(key)\n\u001b[1;32m-> 3812\u001b[0m     \u001b[38;5;28;01mraise\u001b[39;00m \u001b[38;5;167;01mKeyError\u001b[39;00m(key) \u001b[38;5;28;01mfrom\u001b[39;00m \u001b[38;5;21;01merr\u001b[39;00m\n\u001b[0;32m   3813\u001b[0m \u001b[38;5;28;01mexcept\u001b[39;00m \u001b[38;5;167;01mTypeError\u001b[39;00m:\n\u001b[0;32m   3814\u001b[0m     \u001b[38;5;66;03m# If we have a listlike key, _check_indexing_error will raise\u001b[39;00m\n\u001b[0;32m   3815\u001b[0m     \u001b[38;5;66;03m#  InvalidIndexError. Otherwise we fall through and re-raise\u001b[39;00m\n\u001b[0;32m   3816\u001b[0m     \u001b[38;5;66;03m#  the TypeError.\u001b[39;00m\n\u001b[0;32m   3817\u001b[0m     \u001b[38;5;28mself\u001b[39m\u001b[38;5;241m.\u001b[39m_check_indexing_error(key)\n",
      "\u001b[1;31mKeyError\u001b[0m: 'Playlist_ID'"
     ]
    }
   ],
   "source": [
    "playlist_ID = channel_data.loc[channel_data['channel']=='Alex The Analyst','playlist_id'].iloc[0]"
   ]
  },
  {
   "cell_type": "code",
   "execution_count": null,
   "id": "e5c21ff3",
   "metadata": {},
   "outputs": [],
   "source": [
    "video_ids = get_playlist_videos(youtube, playlist_ID)\n",
    "#print(video_ids)"
   ]
  },
  {
   "cell_type": "markdown",
   "id": "50ebcd57",
   "metadata": {},
   "source": [
    "### Function to get video details"
   ]
  },
  {
   "cell_type": "code",
   "execution_count": null,
   "id": "e1aea5c0",
   "metadata": {},
   "outputs": [],
   "source": [
    "def get_video_block_details(youtube, video_block_ids):\n",
    "    \"\"\"\n",
    "    get video details with maximal 50 video IDs\n",
    "    \"\"\"\n",
    "    \n",
    "    request = youtube.videos().list(\n",
    "        part='snippet,contentDetails,statistics',\n",
    "        id=','.join(video_block_ids)\n",
    "        )\n",
    "    response = request.execute()\n",
    "    \n",
    "    return response\n"
   ]
  },
  {
   "cell_type": "code",
   "execution_count": null,
   "id": "65f70ee1",
   "metadata": {},
   "outputs": [],
   "source": [
    "def get_all_video_details(youtube,video_ids):\n",
    "    \"\"\"\n",
    "    get details of all videos\n",
    "    \"\"\"\n",
    "    \n",
    "    video_details = []\n",
    "    video_len=len(video_ids)\n",
    "    \n",
    "    for i in range(0,video_len,50):\n",
    "        video_block_ids=video_ids[i:i+50]        \n",
    "        video_details.append(get_video_block_details(youtube, video_block_ids))   \n",
    "\n",
    "    return video_details   \n",
    "        "
   ]
  },
  {
   "cell_type": "code",
   "execution_count": null,
   "id": "12b077cd",
   "metadata": {},
   "outputs": [],
   "source": [
    "video_details = get_all_video_details(youtube,video_ids)\n",
    "# print(video_details)"
   ]
  },
  {
   "cell_type": "markdown",
   "id": "d31263e4",
   "metadata": {},
   "source": [
    "### Function to get video statistics"
   ]
  },
  {
   "cell_type": "code",
   "execution_count": null,
   "id": "cdf2ad60",
   "metadata": {},
   "outputs": [],
   "source": [
    "def get_video_stats(youtube,video_ids):\n",
    "    \"\"\"\n",
    "    get the statistics of provided videos\n",
    "    \"\"\"\n",
    "    \n",
    "    all_video_stats = []\n",
    "    video_details = get_all_video_details(youtube,video_ids)\n",
    "    \n",
    "    for details in video_details:\n",
    "        for item in details['items']:                     \n",
    "            stats_data = {'video_id': item['id'],\n",
    "                          'title': item['snippet']['title'],\n",
    "                          'published_at':item['snippet']['publishedAt'],                          \n",
    "                          'views': item['statistics'].get('viewCount',0),\n",
    "                          'likes': item['statistics'].get('likeCount',0),                      \n",
    "                          'comments': item['statistics'].get('commentCount',0),  \n",
    "                          'tags': item['snippet'].get('tags', []),\n",
    "                          'duration': item['contentDetails']['duration']        \n",
    "                         }\n",
    "            all_video_stats.append(stats_data)\n",
    "        \n",
    "    return all_video_stats\n",
    "        "
   ]
  },
  {
   "cell_type": "code",
   "execution_count": null,
   "id": "9695e42a",
   "metadata": {},
   "outputs": [],
   "source": [
    "all_video_stats = get_video_stats(youtube,video_ids)\n",
    "# print(all_video_stats)"
   ]
  },
  {
   "cell_type": "code",
   "execution_count": null,
   "id": "f48a4e08",
   "metadata": {},
   "outputs": [],
   "source": [
    "video_data = pd.DataFrame(all_video_stats)\n",
    "# print(video_data)"
   ]
  },
  {
   "cell_type": "code",
   "execution_count": null,
   "id": "be4bedd3",
   "metadata": {},
   "outputs": [],
   "source": [
    "# convert duration to seconds and only keep column duration_seconds\n",
    "video_data['duration_seconds'] = video_data['duration'].apply(lambda x: int(isodate.parse_duration(x).total_seconds()))\n",
    "video_data = video_data.drop(columns='duration')"
   ]
  },
  {
   "cell_type": "code",
   "execution_count": null,
   "id": "4e604088",
   "metadata": {},
   "outputs": [],
   "source": [
    "# save video data into video.csv file\n",
    "video_data.to_csv('data/video.csv', index=False)"
   ]
  }
 ],
 "metadata": {
  "kernelspec": {
   "display_name": "YouTube-DA-env",
   "language": "python",
   "name": "python3"
  },
  "language_info": {
   "codemirror_mode": {
    "name": "ipython",
    "version": 3
   },
   "file_extension": ".py",
   "mimetype": "text/x-python",
   "name": "python",
   "nbconvert_exporter": "python",
   "pygments_lexer": "ipython3",
   "version": "3.11.11"
  }
 },
 "nbformat": 4,
 "nbformat_minor": 5
}
